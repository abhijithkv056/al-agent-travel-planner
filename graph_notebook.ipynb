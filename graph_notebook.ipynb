{
 "cells": [
  {
   "cell_type": "code",
   "execution_count": 1,
   "id": "2354b34c",
   "metadata": {},
   "outputs": [],
   "source": [
    "from langchain_core.tools import tool\n",
    "from langgraph.prebuilt import create_react_agent\n",
    "from langchain_openai import ChatOpenAI\n",
    "from langchain_core.messages import HumanMessage, SystemMessage, AnyMessage, AIMessage\n",
    "from pydantic import BaseModel, Field\n",
    "from typing import Annotated, TypedDict, Literal, Optional\n",
    "from langgraph.graph import StateGraph, START, END, add_messages\n",
    "from langgraph.types import Command\n"
   ]
  },
  {
   "cell_type": "code",
   "execution_count": 2,
   "id": "8367f170",
   "metadata": {},
   "outputs": [],
   "source": [
    "@tool\n",
    "def get_weather_forecast(city: str, date: str) -> str:\n",
    "    \"\"\"Get the weather forecast for a city on a specific date.\"\"\"\n",
    "    # In a real implementation, this would call a weather API\n",
    "    weather_data = {\n",
    "        \"New York\": \"sunny\",\n",
    "        \"Los Angeles\": \"sunny\",\n",
    "        \"Chicago\": \"cloudy\",\n",
    "        \"Miami\": \"sunny\",\n",
    "        \"London\": \"rainy\",\n",
    "        \"Paris\": \"cloudy\",\n",
    "        \"Tokyo\": \"sunny\"\n",
    "    }\n",
    "    \n",
    "    if city in weather_data:\n",
    "        conditions = weather_data[city]\n",
    "\n",
    "        return f\"The weather in {city} on {date} is forecasted to be {conditions}.\"\n",
    "    else:\n",
    "        return f\"Weather forecast for {city} is not available.\"\n",
    "    \n",
    "\n",
    "@tool\n",
    "def search_flights(origin: str, destination: str, date: str) -> str:\n",
    "    \"\"\"Search for flights between two cities on a specific date, taking user preferences into account.\"\"\"\n",
    "    # In a real implementation, this would call a flight search API\n",
    "    flight_options = [\n",
    "        {\n",
    "            \"airline\": \"SkyWays\",\n",
    "            \"departure_time\": \"08:00\",\n",
    "            \"arrival_time\": \"10:30\",\n",
    "            \"price\": 350.00,\n",
    "            \"direct\": True\n",
    "        },\n",
    "        {\n",
    "            \"airline\": \"OceanAir\",\n",
    "            \"departure_time\": \"12:45\",\n",
    "            \"arrival_time\": \"15:15\",\n",
    "            \"price\": 275.50,\n",
    "            \"direct\": True\n",
    "        },\n",
    "        {\n",
    "            \"airline\": \"MountainJet\",\n",
    "            \"departure_time\": \"16:30\",\n",
    "            \"arrival_time\": \"21:45\",\n",
    "            \"price\": 225.75,\n",
    "            \"direct\": False\n",
    "        }\n",
    "    ]\n",
    "    flight_options = [option for option in flight_options if option[\"direct\"]]\n",
    "    if not flight_options:\n",
    "       return \"No direct flights available.\"\n",
    "    return f\"Found {flight_options} direct flights from {origin} to {destination} on {date}.\"\n",
    "\n",
    "\n",
    "@tool\n",
    "def search_hotels(city: str, max_price: Optional[float] = None) -> str:\n",
    "    \"\"\"Search for hotels in a city for specific dates within a price range, taking user preferences into account.\"\"\"\n",
    "    # In a real implementation, this would call a hotel search API\n",
    "    hotel_options = [\n",
    "        {\n",
    "            \"name\": \"City Center Hotel\",\n",
    "            \"location\": \"Downtown\",\n",
    "            \"price_per_night\": 199.99,\n",
    "            \"amenities\": [\"WiFi\", \"Pool\", \"Gym\", \"Restaurant\"]\n",
    "        },\n",
    "        {\n",
    "            \"name\": \"Riverside Inn\",\n",
    "            \"location\": \"Riverside District\",\n",
    "            \"price_per_night\": 149.50,\n",
    "            \"amenities\": [\"WiFi\", \"Free Breakfast\", \"Parking\"]\n",
    "        },\n",
    "        {\n",
    "            \"name\": \"Luxury Palace\",\n",
    "            \"location\": \"Historic District\",\n",
    "            \"price_per_night\": 349.99,\n",
    "            \"amenities\": [\"WiFi\", \"Pool\", \"Spa\", \"Fine Dining\", \"Concierge\"]\n",
    "        }\n",
    "    ]\n",
    "\n",
    "    hotel_options = [hotel for hotel in hotel_options if hotel[\"price_per_night\"] <= max_price] if max_price else hotel_options\n",
    "\n",
    "    if not hotel_options:\n",
    "        return \"No hotels found.\"\n",
    "\n",
    "    return f\"Found {hotel_options} hotels in {city}\"\n",
    "\n"
   ]
  },
  {
   "cell_type": "code",
   "execution_count": 3,
   "id": "0e61cb2c",
   "metadata": {},
   "outputs": [],
   "source": [
    "#define a state class for the graph\n",
    "\n",
    "system_prompt_for_router = \"\"\"You are a travel planner agent. You can help users with travel-related queries.\n",
    "                    Breakdown the user querry into action which the user need to do. \n",
    "                    The actions must be one of the following: travel_search, hotel_search, flight_search.\n",
    "                    only output the action name and nothing else\"\"\"\n",
    "\n",
    "class OutputStructure(BaseModel):\n",
    "    action: Literal[\"weather_check\", \"hotel_search\", \"travel_search\"]\n",
    "\n",
    "class TravelPlannerState(TypedDict):\n",
    "    user_query: str\n",
    "    messages: Annotated[list[AnyMessage], add_messages]\n",
    "    agent_redirect: Literal[\"weather_check\", \"hotel_search\", \"travel_search\"]\n",
    "    feedback: Literal[\"back_to_router\", \"end_conversation\"]\n",
    "\n",
    "\n",
    "#define my graph nodes - main router which takes querries and decides which agent to redirect\n",
    "def main_router(state: TravelPlannerState) -> TravelPlannerState:\n",
    "    llm = ChatOpenAI(model=\"gpt-4o-mini\", temperature=0.0)\n",
    "    llm_structured = llm.with_structured_output(OutputStructure)\n",
    "    response = llm_structured.invoke([\n",
    "        SystemMessage(content=system_prompt_for_router),HumanMessage(content=state['user_query'])])\n",
    "\n",
    "    state['messages'].append(HumanMessage(content=state['user_query']))\n",
    "\n",
    "    state['agent_redirect'] = response.action\n",
    "    return state"
   ]
  },
  {
   "cell_type": "code",
   "execution_count": 4,
   "id": "ee6d56f2",
   "metadata": {},
   "outputs": [],
   "source": [
    "#define the node for travel_search\n",
    "def travel_search(state: TravelPlannerState) -> TravelPlannerState:\n",
    "    llm = ChatOpenAI(model=\"gpt-4o-mini\", temperature=0.0)\n",
    "\n",
    "    agent = create_react_agent(model=llm, tools=[search_flights])\n",
    "\n",
    "    travel_agent_system_prompt = \"\"\"\n",
    "    You are a travel agent. You can help users find flights. you have a tool for searching flights. use it if required\n",
    "    \"\"\"\n",
    "\n",
    "    response = agent.invoke({\"messages\": [\n",
    "        SystemMessage(content=travel_agent_system_prompt), HumanMessage(content=state['user_query'])]})\n",
    "\n",
    "    state['messages'].extend(response['messages'][-3:])\n",
    "\n",
    "    return state\n",
    "\n",
    "\n",
    "#define the node for hotel_search\n",
    "def hotel_search(state: TravelPlannerState) -> TravelPlannerState:\n",
    "    llm = ChatOpenAI(model=\"gpt-4o-mini\", temperature=0.0)\n",
    "\n",
    "    agent = create_react_agent(model=llm, tools=[search_hotels])\n",
    "\n",
    "    hotel_agent_system_prompt = \"\"\"\n",
    "    You are a hotel booking agent. You can help users find hotels. You have a tool for searching hotels. Use it if required.\n",
    "    \"\"\"\n",
    "\n",
    "    response = agent.invoke({\"messages\": [\n",
    "        SystemMessage(content=hotel_agent_system_prompt), HumanMessage(content=state['user_query'])]})\n",
    "\n",
    "    state['messages'].extend(response['messages'][-3:])\n",
    "\n",
    "    return state\n",
    "\n",
    "\n",
    "# Define the node weather check\n",
    "def weather_check(state: TravelPlannerState) -> TravelPlannerState:\n",
    "    llm = ChatOpenAI(model=\"gpt-4o-mini\", temperature=0.0)\n",
    "\n",
    "    agent = create_react_agent(model=llm, tools=[get_weather_forecast])\n",
    "\n",
    "    weather_agent_system_prompt = \"\"\"\n",
    "    You are a weather agent. You can help users check the weather. You have a tool for checking the weather. Use it if required.\n",
    "    \"\"\"\n",
    "\n",
    "    response = agent.invoke({\"messages\": [\n",
    "        SystemMessage(content=weather_agent_system_prompt), HumanMessage(content=state['user_query'])]})\n",
    "\n",
    "    state['messages'].extend(response['messages'][-3:])\n",
    "\n",
    "    return state\n"
   ]
  },
  {
   "cell_type": "code",
   "execution_count": 5,
   "id": "ac9a674b",
   "metadata": {},
   "outputs": [],
   "source": [
    "#node that acts as a feedback and decides if flow should go back to router or end\n",
    "\n",
    "system_prompt_for_feedback_router = \"\"\"You are a agent answer validator. you look at the user query and see if the earlier response message given satifies the querry.\n",
    "                    Based on the user query and the actions taken, decide if the flow should go back to the main router or end the conversation.\n",
    "                    end the conversation if user is satisfied with the response. by default choose this option\n",
    "                    Only output one of the following: 'back_to_router' or 'end_conversation'\"\"\"\n",
    "\n",
    "class FeedbackOutputStructure(BaseModel):\n",
    "    feedback: Literal[\"back_to_router\", \"end_conversation\"]\n",
    "\n",
    "def feedback_router(state: TravelPlannerState) -> TravelPlannerState:\n",
    "    llm = ChatOpenAI(model=\"gpt-4o-mini\", temperature=0.0)\n",
    "    llm_structured = llm.with_structured_output(FeedbackOutputStructure)\n",
    "    response = llm_structured.invoke([\n",
    "        SystemMessage(content=system_prompt_for_feedback_router), state['messages'][-1]]\n",
    "    )\n",
    "\n",
    "    state['feedback'] = response.feedback\n",
    "    return state\n",
    "\n"
   ]
  },
  {
   "cell_type": "code",
   "execution_count": 6,
   "id": "337f5ea1",
   "metadata": {},
   "outputs": [],
   "source": [
    "#create the graph\n",
    "\n",
    "graph = StateGraph(TravelPlannerState)\n",
    "graph.add_node(\"main_router\", main_router)\n",
    "graph.add_node(\"travel_search\", travel_search)\n",
    "graph.add_node(\"hotel_search\", hotel_search)\n",
    "graph.add_node(\"weather_check\", weather_check)\n",
    "\n",
    "graph.add_edge(START, \"main_router\")\n",
    "\n",
    "def route(state: TravelPlannerState):\n",
    "    return state[\"agent_redirect\"]  # e.g. \"travel_search\" | \"hotel_search\" | \"weather_check\"\n",
    "\n",
    "graph.add_conditional_edges(\n",
    "    \"main_router\",\n",
    "    route,  # <-- condition (callable)\n",
    "    {\n",
    "        \"travel_search\": \"travel_search\",\n",
    "        \"hotel_search\": \"hotel_search\",\n",
    "        \"weather_check\": \"weather_check\",\n",
    "        # Optional default:\n",
    "        # \"__end__\": END\n",
    "    },\n",
    ")\n",
    "\n",
    "def feedback_routing(state: TravelPlannerState):\n",
    "    if state['feedback'] == \"back_to_router\":\n",
    "        return \"main_router\"\n",
    "    else:\n",
    "        return END\n",
    "    \n",
    "graph.add_node(\"feedback_router\", feedback_router)\n",
    "\n",
    "graph.add_edge(\"travel_search\", \"feedback_router\")\n",
    "graph.add_edge(\"hotel_search\", \"feedback_router\")\n",
    "graph.add_edge(\"weather_check\", \"feedback_router\")\n",
    "\n",
    "graph.add_conditional_edges(\n",
    "    \"feedback_router\",\n",
    "    feedback_routing,\n",
    "    {\n",
    "        \"main_router\": \"main_router\",\n",
    "        END: END\n",
    "    }\n",
    ")\n",
    "\n",
    "app = graph.compile()\n"
   ]
  },
  {
   "cell_type": "code",
   "execution_count": 7,
   "id": "5d7609f8",
   "metadata": {},
   "outputs": [
    {
     "data": {
      "text/plain": [
       "{'user_query': 'Find me a flight from New York to San Francisco on friday',\n",
       " 'messages': [HumanMessage(content='Find me a flight from New York to San Francisco on friday', additional_kwargs={}, response_metadata={}, id='34a676de-7108-4856-9e0e-b4195ec95f9f'),\n",
       "  AIMessage(content='', additional_kwargs={'tool_calls': [{'id': 'call_PpuDw97B72unO9FZxcj13eeV', 'function': {'arguments': '{\"origin\":\"New York\",\"destination\":\"San Francisco\",\"date\":\"2023-10-27\"}', 'name': 'search_flights'}, 'type': 'function'}], 'refusal': None}, response_metadata={'token_usage': {'completion_tokens': 30, 'prompt_tokens': 103, 'total_tokens': 133, 'completion_tokens_details': {'accepted_prediction_tokens': 0, 'audio_tokens': 0, 'reasoning_tokens': 0, 'rejected_prediction_tokens': 0}, 'prompt_tokens_details': {'audio_tokens': 0, 'cached_tokens': 0}}, 'model_name': 'gpt-4o-mini-2024-07-18', 'system_fingerprint': 'fp_560af6e559', 'id': 'chatcmpl-C6wgp6gsKu0nVYaxnghvQ3GglzeSg', 'finish_reason': 'tool_calls', 'logprobs': None}, id='run--f883a2af-fecc-4f65-8035-f871fb1c4c91-0', tool_calls=[{'name': 'search_flights', 'args': {'origin': 'New York', 'destination': 'San Francisco', 'date': '2023-10-27'}, 'id': 'call_PpuDw97B72unO9FZxcj13eeV', 'type': 'tool_call'}], usage_metadata={'input_tokens': 103, 'output_tokens': 30, 'total_tokens': 133, 'input_token_details': {'audio': 0, 'cache_read': 0}, 'output_token_details': {'audio': 0, 'reasoning': 0}}),\n",
       "  ToolMessage(content=\"Found [{'airline': 'SkyWays', 'departure_time': '08:00', 'arrival_time': '10:30', 'price': 350.0, 'direct': True}, {'airline': 'OceanAir', 'departure_time': '12:45', 'arrival_time': '15:15', 'price': 275.5, 'direct': True}] direct flights from New York to San Francisco on 2023-10-27.\", name='search_flights', id='50c1132d-a105-42f6-b531-e0ad0940b422', tool_call_id='call_PpuDw97B72unO9FZxcj13eeV'),\n",
       "  AIMessage(content='I found two direct flights from New York to San Francisco on Friday, October 27, 2023:\\n\\n1. **SkyWays**\\n   - Departure Time: 08:00\\n   - Arrival Time: 10:30\\n   - Price: $350.00\\n\\n2. **OceanAir**\\n   - Departure Time: 12:45\\n   - Arrival Time: 15:15\\n   - Price: $275.50\\n\\nLet me know if you would like to book one of these flights or need more information!', additional_kwargs={'refusal': None}, response_metadata={'token_usage': {'completion_tokens': 111, 'prompt_tokens': 238, 'total_tokens': 349, 'completion_tokens_details': {'accepted_prediction_tokens': 0, 'audio_tokens': 0, 'reasoning_tokens': 0, 'rejected_prediction_tokens': 0}, 'prompt_tokens_details': {'audio_tokens': 0, 'cached_tokens': 0}}, 'model_name': 'gpt-4o-mini-2024-07-18', 'system_fingerprint': 'fp_560af6e559', 'id': 'chatcmpl-C6wgq6DzolDf1tnY7eiU3P0mz2kHA', 'finish_reason': 'stop', 'logprobs': None}, id='run--6513d041-c610-4c94-8166-52e2301f33bc-0', usage_metadata={'input_tokens': 238, 'output_tokens': 111, 'total_tokens': 349, 'input_token_details': {'audio': 0, 'cache_read': 0}, 'output_token_details': {'audio': 0, 'reasoning': 0}})],\n",
       " 'agent_redirect': 'travel_search',\n",
       " 'feedback': 'end_conversation'}"
      ]
     },
     "execution_count": 7,
     "metadata": {},
     "output_type": "execute_result"
    }
   ],
   "source": [
    "result = app.invoke({\n",
    "    \"user_query\": \"Find me a flight from New York to San Francisco on friday\",\n",
    "    \"messages\": []           # <-- needed so .append(...) in main_router works\n",
    "})\n",
    "\n",
    "result"
   ]
  },
  {
   "cell_type": "code",
   "execution_count": 8,
   "id": "2e57dadf",
   "metadata": {},
   "outputs": [
    {
     "data": {
      "text/plain": [
       "{'user_query': 'Find me a flight from New York to San Francisco on friday',\n",
       " 'messages': [HumanMessage(content='Find me a flight from New York to San Francisco on friday', additional_kwargs={}, response_metadata={}, id='34a676de-7108-4856-9e0e-b4195ec95f9f'),\n",
       "  AIMessage(content='', additional_kwargs={'tool_calls': [{'id': 'call_PpuDw97B72unO9FZxcj13eeV', 'function': {'arguments': '{\"origin\":\"New York\",\"destination\":\"San Francisco\",\"date\":\"2023-10-27\"}', 'name': 'search_flights'}, 'type': 'function'}], 'refusal': None}, response_metadata={'token_usage': {'completion_tokens': 30, 'prompt_tokens': 103, 'total_tokens': 133, 'completion_tokens_details': {'accepted_prediction_tokens': 0, 'audio_tokens': 0, 'reasoning_tokens': 0, 'rejected_prediction_tokens': 0}, 'prompt_tokens_details': {'audio_tokens': 0, 'cached_tokens': 0}}, 'model_name': 'gpt-4o-mini-2024-07-18', 'system_fingerprint': 'fp_560af6e559', 'id': 'chatcmpl-C6wgp6gsKu0nVYaxnghvQ3GglzeSg', 'finish_reason': 'tool_calls', 'logprobs': None}, id='run--f883a2af-fecc-4f65-8035-f871fb1c4c91-0', tool_calls=[{'name': 'search_flights', 'args': {'origin': 'New York', 'destination': 'San Francisco', 'date': '2023-10-27'}, 'id': 'call_PpuDw97B72unO9FZxcj13eeV', 'type': 'tool_call'}], usage_metadata={'input_tokens': 103, 'output_tokens': 30, 'total_tokens': 133, 'input_token_details': {'audio': 0, 'cache_read': 0}, 'output_token_details': {'audio': 0, 'reasoning': 0}}),\n",
       "  ToolMessage(content=\"Found [{'airline': 'SkyWays', 'departure_time': '08:00', 'arrival_time': '10:30', 'price': 350.0, 'direct': True}, {'airline': 'OceanAir', 'departure_time': '12:45', 'arrival_time': '15:15', 'price': 275.5, 'direct': True}] direct flights from New York to San Francisco on 2023-10-27.\", name='search_flights', id='50c1132d-a105-42f6-b531-e0ad0940b422', tool_call_id='call_PpuDw97B72unO9FZxcj13eeV'),\n",
       "  AIMessage(content='I found two direct flights from New York to San Francisco on Friday, October 27, 2023:\\n\\n1. **SkyWays**\\n   - Departure Time: 08:00\\n   - Arrival Time: 10:30\\n   - Price: $350.00\\n\\n2. **OceanAir**\\n   - Departure Time: 12:45\\n   - Arrival Time: 15:15\\n   - Price: $275.50\\n\\nLet me know if you would like to book one of these flights or need more information!', additional_kwargs={'refusal': None}, response_metadata={'token_usage': {'completion_tokens': 111, 'prompt_tokens': 238, 'total_tokens': 349, 'completion_tokens_details': {'accepted_prediction_tokens': 0, 'audio_tokens': 0, 'reasoning_tokens': 0, 'rejected_prediction_tokens': 0}, 'prompt_tokens_details': {'audio_tokens': 0, 'cached_tokens': 0}}, 'model_name': 'gpt-4o-mini-2024-07-18', 'system_fingerprint': 'fp_560af6e559', 'id': 'chatcmpl-C6wgq6DzolDf1tnY7eiU3P0mz2kHA', 'finish_reason': 'stop', 'logprobs': None}, id='run--6513d041-c610-4c94-8166-52e2301f33bc-0', usage_metadata={'input_tokens': 238, 'output_tokens': 111, 'total_tokens': 349, 'input_token_details': {'audio': 0, 'cache_read': 0}, 'output_token_details': {'audio': 0, 'reasoning': 0}})],\n",
       " 'agent_redirect': 'travel_search',\n",
       " 'feedback': 'end_conversation'}"
      ]
     },
     "execution_count": 8,
     "metadata": {},
     "output_type": "execute_result"
    }
   ],
   "source": [
    "result"
   ]
  },
  {
   "cell_type": "code",
   "execution_count": 9,
   "id": "9deb98b2",
   "metadata": {},
   "outputs": [
    {
     "data": {
      "text/plain": [
       "{'user_query': 'Find me a hotel in San Francisco. my budget is 200 dollars',\n",
       " 'messages': [HumanMessage(content='Find me a hotel in San Francisco. my budget is 200 dollars', additional_kwargs={}, response_metadata={}, id='e3b37df2-d6eb-4473-8f13-ebdd2e2b4113'),\n",
       "  AIMessage(content='', additional_kwargs={'tool_calls': [{'id': 'call_zK5ItLvutx4Ld9MSKtqJKKVc', 'function': {'arguments': '{\"city\":\"San Francisco\",\"max_price\":200}', 'name': 'search_hotels'}, 'type': 'function'}], 'refusal': None}, response_metadata={'token_usage': {'completion_tokens': 21, 'prompt_tokens': 115, 'total_tokens': 136, 'completion_tokens_details': {'accepted_prediction_tokens': 0, 'audio_tokens': 0, 'reasoning_tokens': 0, 'rejected_prediction_tokens': 0}, 'prompt_tokens_details': {'audio_tokens': 0, 'cached_tokens': 0}}, 'model_name': 'gpt-4o-mini-2024-07-18', 'system_fingerprint': 'fp_560af6e559', 'id': 'chatcmpl-C6wgwHCu7OiYYzUKiYnLENzIXFQ4S', 'finish_reason': 'tool_calls', 'logprobs': None}, id='run--48ee7478-27e2-4122-8133-b1658aceeb6b-0', tool_calls=[{'name': 'search_hotels', 'args': {'city': 'San Francisco', 'max_price': 200}, 'id': 'call_zK5ItLvutx4Ld9MSKtqJKKVc', 'type': 'tool_call'}], usage_metadata={'input_tokens': 115, 'output_tokens': 21, 'total_tokens': 136, 'input_token_details': {'audio': 0, 'cache_read': 0}, 'output_token_details': {'audio': 0, 'reasoning': 0}}),\n",
       "  ToolMessage(content=\"Found [{'name': 'City Center Hotel', 'location': 'Downtown', 'price_per_night': 199.99, 'amenities': ['WiFi', 'Pool', 'Gym', 'Restaurant']}, {'name': 'Riverside Inn', 'location': 'Riverside District', 'price_per_night': 149.5, 'amenities': ['WiFi', 'Free Breakfast', 'Parking']}] hotels in San Francisco\", name='search_hotels', id='233bb910-0482-4444-a40c-e06109d43875', tool_call_id='call_zK5ItLvutx4Ld9MSKtqJKKVc'),\n",
       "  AIMessage(content='Here are some hotel options in San Francisco within your budget of $200:\\n\\n1. **City Center Hotel**\\n   - **Location:** Downtown\\n   - **Price per Night:** $199.99\\n   - **Amenities:** WiFi, Pool, Gym, Restaurant\\n\\n2. **Riverside Inn**\\n   - **Location:** Riverside District\\n   - **Price per Night:** $149.50\\n   - **Amenities:** WiFi, Free Breakfast, Parking\\n\\nLet me know if you would like more information or to book one of these hotels!', additional_kwargs={'refusal': None}, response_metadata={'token_usage': {'completion_tokens': 114, 'prompt_tokens': 239, 'total_tokens': 353, 'completion_tokens_details': {'accepted_prediction_tokens': 0, 'audio_tokens': 0, 'reasoning_tokens': 0, 'rejected_prediction_tokens': 0}, 'prompt_tokens_details': {'audio_tokens': 0, 'cached_tokens': 0}}, 'model_name': 'gpt-4o-mini-2024-07-18', 'system_fingerprint': 'fp_560af6e559', 'id': 'chatcmpl-C6wgx8qecC3ZO640Tcyfj08PpOPFN', 'finish_reason': 'stop', 'logprobs': None}, id='run--4f629cca-464e-4452-812c-c6adede17d70-0', usage_metadata={'input_tokens': 239, 'output_tokens': 114, 'total_tokens': 353, 'input_token_details': {'audio': 0, 'cache_read': 0}, 'output_token_details': {'audio': 0, 'reasoning': 0}})],\n",
       " 'agent_redirect': 'hotel_search',\n",
       " 'feedback': 'end_conversation'}"
      ]
     },
     "execution_count": 9,
     "metadata": {},
     "output_type": "execute_result"
    }
   ],
   "source": [
    "result2 = app.invoke({\n",
    "    \"user_query\": \"Find me a hotel in San Francisco. my budget is 200 dollars\"\n",
    "})\n",
    "\n",
    "result2"
   ]
  },
  {
   "cell_type": "code",
   "execution_count": 10,
   "id": "70fb0ef7",
   "metadata": {},
   "outputs": [
    {
     "data": {
      "text/plain": [
       "{'user_query': 'Find me a flight from New York to San Francisco on friday',\n",
       " 'messages': [HumanMessage(content='Find me a flight from New York to San Francisco on friday', additional_kwargs={}, response_metadata={}, id='34a676de-7108-4856-9e0e-b4195ec95f9f'),\n",
       "  AIMessage(content='', additional_kwargs={'tool_calls': [{'id': 'call_PpuDw97B72unO9FZxcj13eeV', 'function': {'arguments': '{\"origin\":\"New York\",\"destination\":\"San Francisco\",\"date\":\"2023-10-27\"}', 'name': 'search_flights'}, 'type': 'function'}], 'refusal': None}, response_metadata={'token_usage': {'completion_tokens': 30, 'prompt_tokens': 103, 'total_tokens': 133, 'completion_tokens_details': {'accepted_prediction_tokens': 0, 'audio_tokens': 0, 'reasoning_tokens': 0, 'rejected_prediction_tokens': 0}, 'prompt_tokens_details': {'audio_tokens': 0, 'cached_tokens': 0}}, 'model_name': 'gpt-4o-mini-2024-07-18', 'system_fingerprint': 'fp_560af6e559', 'id': 'chatcmpl-C6wgp6gsKu0nVYaxnghvQ3GglzeSg', 'finish_reason': 'tool_calls', 'logprobs': None}, id='run--f883a2af-fecc-4f65-8035-f871fb1c4c91-0', tool_calls=[{'name': 'search_flights', 'args': {'origin': 'New York', 'destination': 'San Francisco', 'date': '2023-10-27'}, 'id': 'call_PpuDw97B72unO9FZxcj13eeV', 'type': 'tool_call'}], usage_metadata={'input_tokens': 103, 'output_tokens': 30, 'total_tokens': 133, 'input_token_details': {'audio': 0, 'cache_read': 0}, 'output_token_details': {'audio': 0, 'reasoning': 0}}),\n",
       "  ToolMessage(content=\"Found [{'airline': 'SkyWays', 'departure_time': '08:00', 'arrival_time': '10:30', 'price': 350.0, 'direct': True}, {'airline': 'OceanAir', 'departure_time': '12:45', 'arrival_time': '15:15', 'price': 275.5, 'direct': True}] direct flights from New York to San Francisco on 2023-10-27.\", name='search_flights', id='50c1132d-a105-42f6-b531-e0ad0940b422', tool_call_id='call_PpuDw97B72unO9FZxcj13eeV'),\n",
       "  AIMessage(content='I found two direct flights from New York to San Francisco on Friday, October 27, 2023:\\n\\n1. **SkyWays**\\n   - Departure Time: 08:00\\n   - Arrival Time: 10:30\\n   - Price: $350.00\\n\\n2. **OceanAir**\\n   - Departure Time: 12:45\\n   - Arrival Time: 15:15\\n   - Price: $275.50\\n\\nLet me know if you would like to book one of these flights or need more information!', additional_kwargs={'refusal': None}, response_metadata={'token_usage': {'completion_tokens': 111, 'prompt_tokens': 238, 'total_tokens': 349, 'completion_tokens_details': {'accepted_prediction_tokens': 0, 'audio_tokens': 0, 'reasoning_tokens': 0, 'rejected_prediction_tokens': 0}, 'prompt_tokens_details': {'audio_tokens': 0, 'cached_tokens': 0}}, 'model_name': 'gpt-4o-mini-2024-07-18', 'system_fingerprint': 'fp_560af6e559', 'id': 'chatcmpl-C6wgq6DzolDf1tnY7eiU3P0mz2kHA', 'finish_reason': 'stop', 'logprobs': None}, id='run--6513d041-c610-4c94-8166-52e2301f33bc-0', usage_metadata={'input_tokens': 238, 'output_tokens': 111, 'total_tokens': 349, 'input_token_details': {'audio': 0, 'cache_read': 0}, 'output_token_details': {'audio': 0, 'reasoning': 0}})],\n",
       " 'agent_redirect': 'travel_search',\n",
       " 'feedback': 'end_conversation'}"
      ]
     },
     "execution_count": 10,
     "metadata": {},
     "output_type": "execute_result"
    }
   ],
   "source": [
    "result"
   ]
  },
  {
   "cell_type": "code",
   "execution_count": null,
   "id": "59c2fe39",
   "metadata": {},
   "outputs": [],
   "source": [
    "\n"
   ]
  },
  {
   "cell_type": "code",
   "execution_count": 11,
   "id": "5ff484f7",
   "metadata": {},
   "outputs": [
    {
     "data": {
      "image/png": "[encoded data removed]",
      "text/plain": [
       "<IPython.core.display.Image object>"
      ]
     },
     "metadata": {},
     "output_type": "display_data"
    }
   ],
   "source": [
    "from IPython.display import display, Image\n",
    "display(Image(app.get_graph(xray=True).draw_mermaid_png()))"
   ]
  }
 ],
 "metadata": {
  "kernelspec": {
   "display_name": "venv",
   "language": "python",
   "name": "python3"
  },
  "language_info": {
   "codemirror_mode": {
    "name": "ipython",
    "version": 3
   },
   "file_extension": ".py",
   "mimetype": "text/x-python",
   "name": "python",
   "nbconvert_exporter": "python",
   "pygments_lexer": "ipython3",
   "version": "3.12.10"
  }
 },
 "nbformat": 4,
 "nbformat_minor": 5
}
