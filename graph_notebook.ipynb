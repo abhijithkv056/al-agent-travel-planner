{
 "cells": [
  {
   "cell_type": "code",
   "execution_count": 17,
   "id": "2354b34c",
   "metadata": {},
   "outputs": [],
   "source": [
    "from langchain_core.tools import tool\n",
    "from langgraph.prebuilt import create_react_agent\n",
    "from langchain_openai import ChatOpenAI\n",
    "from langchain_core.messages import HumanMessage, SystemMessage, AnyMessage, AIMessage\n",
    "from pydantic import BaseModel, Field\n",
    "from typing import Annotated, TypedDict, Literal, Optional\n",
    "from langgraph.graph import StateGraph, START, END, add_messages\n",
    "from langgraph.types import Command\n"
   ]
  },
  {
   "cell_type": "code",
   "execution_count": 18,
   "id": "8367f170",
   "metadata": {},
   "outputs": [],
   "source": [
    "@tool\n",
    "def get_weather_forecast(city: str, date: str) -> str:\n",
    "    \"\"\"Get the weather forecast for a city on a specific date.\"\"\"\n",
    "    # In a real implementation, this would call a weather API\n",
    "    weather_data = {\n",
    "        \"New York\": \"sunny\",\n",
    "        \"Los Angeles\": \"sunny\",\n",
    "        \"Chicago\": \"cloudy\",\n",
    "        \"Miami\": \"sunny\",\n",
    "        \"London\": \"rainy\",\n",
    "        \"Paris\": \"cloudy\",\n",
    "        \"Tokyo\": \"sunny\"\n",
    "    }\n",
    "    \n",
    "    if city in weather_data:\n",
    "        conditions = weather_data[city]\n",
    "\n",
    "        return f\"The weather in {city} on {date} is forecasted to be {conditions}.\"\n",
    "    else:\n",
    "        return f\"Weather forecast for {city} is not available.\"\n",
    "    \n",
    "\n",
    "@tool\n",
    "def search_flights(origin: str, destination: str, date: str) -> str:\n",
    "    \"\"\"Search for flights between two cities on a specific date, taking user preferences into account.\"\"\"\n",
    "    # In a real implementation, this would call a flight search API\n",
    "    flight_options = [\n",
    "        {\n",
    "            \"airline\": \"SkyWays\",\n",
    "            \"departure_time\": \"08:00\",\n",
    "            \"arrival_time\": \"10:30\",\n",
    "            \"price\": 350.00,\n",
    "            \"direct\": True\n",
    "        },\n",
    "        {\n",
    "            \"airline\": \"OceanAir\",\n",
    "            \"departure_time\": \"12:45\",\n",
    "            \"arrival_time\": \"15:15\",\n",
    "            \"price\": 275.50,\n",
    "            \"direct\": True\n",
    "        },\n",
    "        {\n",
    "            \"airline\": \"MountainJet\",\n",
    "            \"departure_time\": \"16:30\",\n",
    "            \"arrival_time\": \"21:45\",\n",
    "            \"price\": 225.75,\n",
    "            \"direct\": False\n",
    "        }\n",
    "    ]\n",
    "    flight_options = [option for option in flight_options if option[\"direct\"]]\n",
    "    if not flight_options:\n",
    "       return \"No direct flights available.\"\n",
    "    return f\"Found {flight_options} direct flights from {origin} to {destination} on {date}.\"\n",
    "\n",
    "\n",
    "@tool\n",
    "def search_hotels(city: str, max_price: Optional[float] = None) -> str:\n",
    "    \"\"\"Search for hotels in a city for specific dates within a price range, taking user preferences into account.\"\"\"\n",
    "    # In a real implementation, this would call a hotel search API\n",
    "    hotel_options = [\n",
    "        {\n",
    "            \"name\": \"City Center Hotel\",\n",
    "            \"location\": \"Downtown\",\n",
    "            \"price_per_night\": 199.99,\n",
    "            \"amenities\": [\"WiFi\", \"Pool\", \"Gym\", \"Restaurant\"]\n",
    "        },\n",
    "        {\n",
    "            \"name\": \"Riverside Inn\",\n",
    "            \"location\": \"Riverside District\",\n",
    "            \"price_per_night\": 149.50,\n",
    "            \"amenities\": [\"WiFi\", \"Free Breakfast\", \"Parking\"]\n",
    "        },\n",
    "        {\n",
    "            \"name\": \"Luxury Palace\",\n",
    "            \"location\": \"Historic District\",\n",
    "            \"price_per_night\": 349.99,\n",
    "            \"amenities\": [\"WiFi\", \"Pool\", \"Spa\", \"Fine Dining\", \"Concierge\"]\n",
    "        }\n",
    "    ]\n",
    "\n",
    "    hotel_options = [hotel for hotel in hotel_options if hotel[\"price_per_night\"] <= max_price] if max_price else hotel_options\n",
    "\n",
    "    if not hotel_options:\n",
    "        return \"No hotels found.\"\n",
    "\n",
    "    return f\"Found {hotel_options} hotels in {city}\"\n",
    "\n"
   ]
  },
  {
   "cell_type": "code",
   "execution_count": 19,
   "id": "0e61cb2c",
   "metadata": {},
   "outputs": [],
   "source": [
    "#define a state class for the graph\n",
    "\n",
    "system_prompt_for_router = \"\"\"You are a travel planner agent. You can help users with travel-related queries.\n",
    "                    Breakdown the user querry into action which the user need to do. \n",
    "                    The actions must be one of the following: travel_search, hotel_search, flight_search.\n",
    "                    only output the action name and nothing else\"\"\"\n",
    "\n",
    "class OutputStructure(BaseModel):\n",
    "    action: Literal[\"weather_check\", \"hotel_search\", \"travel_search\"]\n",
    "\n",
    "class TravelPlannerState(TypedDict):\n",
    "    user_query: str\n",
    "    messages: Annotated[list[AnyMessage], add_messages]\n",
    "    agent_redirect: Literal[\"weather_check\", \"hotel_search\", \"travel_search\"]\n",
    "\n",
    "\n",
    "#define my graph nodes - main router which takes querries and decides which agent to redirect\n",
    "def main_router(state: TravelPlannerState) -> TravelPlannerState:\n",
    "    llm = ChatOpenAI(model=\"gpt-4o-mini\", temperature=0.0)\n",
    "    llm_structured = llm.with_structured_output(OutputStructure)\n",
    "    response = llm_structured.invoke([\n",
    "        SystemMessage(content=system_prompt_for_router),HumanMessage(content=state['user_query'])])\n",
    "\n",
    "    state['messages'].append(HumanMessage(content=state['user_query']))\n",
    "\n",
    "    state['agent_redirect'] = response.action\n",
    "    return state"
   ]
  },
  {
   "cell_type": "code",
   "execution_count": 20,
   "id": "ee6d56f2",
   "metadata": {},
   "outputs": [],
   "source": [
    "#define the node for travel_search\n",
    "def travel_search(state: TravelPlannerState) -> TravelPlannerState:\n",
    "    llm = ChatOpenAI(model=\"gpt-4o-mini\", temperature=0.0)\n",
    "\n",
    "    agent = create_react_agent(model=llm, tools=[search_flights])\n",
    "\n",
    "    travel_agent_system_prompt = \"\"\"\n",
    "    You are a travel agent. You can help users find flights. you have a tool for searching flights. use it if required\n",
    "    \"\"\"\n",
    "\n",
    "    response = agent.invoke({\"messages\": [\n",
    "        SystemMessage(content=travel_agent_system_prompt), HumanMessage(content=state['user_query'])]})\n",
    "\n",
    "    state['messages'].extend(response['messages'][-3:])\n",
    "\n",
    "    return state\n",
    "\n",
    "\n",
    "#define the node for hotel_search\n",
    "def hotel_search(state: TravelPlannerState) -> TravelPlannerState:\n",
    "    llm = ChatOpenAI(model=\"gpt-4o-mini\", temperature=0.0)\n",
    "\n",
    "    agent = create_react_agent(model=llm, tools=[search_hotels])\n",
    "\n",
    "    hotel_agent_system_prompt = \"\"\"\n",
    "    You are a hotel booking agent. You can help users find hotels. You have a tool for searching hotels. Use it if required.\n",
    "    \"\"\"\n",
    "\n",
    "    response = agent.invoke({\"messages\": [\n",
    "        SystemMessage(content=hotel_agent_system_prompt), HumanMessage(content=state['user_query'])]})\n",
    "\n",
    "    state['messages'].extend(response['messages'][-3:])\n",
    "\n",
    "    return state\n",
    "\n",
    "\n",
    "# Define the node weather check\n",
    "def weather_check(state: TravelPlannerState) -> TravelPlannerState:\n",
    "    llm = ChatOpenAI(model=\"gpt-4o-mini\", temperature=0.0)\n",
    "\n",
    "    agent = create_react_agent(model=llm, tools=[get_weather_forecast])\n",
    "\n",
    "    weather_agent_system_prompt = \"\"\"\n",
    "    You are a weather agent. You can help users check the weather. You have a tool for checking the weather. Use it if required.\n",
    "    \"\"\"\n",
    "\n",
    "    response = agent.invoke({\"messages\": [\n",
    "        SystemMessage(content=weather_agent_system_prompt), HumanMessage(content=state['user_query'])]})\n",
    "\n",
    "    state['messages'].extend(response['messages'][-3:])\n",
    "\n",
    "    return state\n"
   ]
  },
  {
   "cell_type": "code",
   "execution_count": 21,
   "id": "337f5ea1",
   "metadata": {},
   "outputs": [],
   "source": [
    "#create the graph\n",
    "\n",
    "graph = StateGraph(TravelPlannerState)\n",
    "graph.add_node(\"main_router\", main_router)\n",
    "graph.add_node(\"travel_search\", travel_search)\n",
    "graph.add_node(\"hotel_search\", hotel_search)\n",
    "graph.add_node(\"weather_check\", weather_check)\n",
    "\n",
    "graph.add_edge(START, \"main_router\")\n",
    "\n",
    "def route(state: TravelPlannerState):\n",
    "    return state[\"agent_redirect\"]  # e.g. \"travel_search\" | \"hotel_search\" | \"weather_check\"\n",
    "\n",
    "graph.add_conditional_edges(\n",
    "    \"main_router\",\n",
    "    route,  # <-- condition (callable)\n",
    "    {\n",
    "        \"travel_search\": \"travel_search\",\n",
    "        \"hotel_search\": \"hotel_search\",\n",
    "        \"weather_check\": \"weather_check\",\n",
    "        # Optional default:\n",
    "        # \"__end__\": END\n",
    "    },\n",
    ")\n",
    "graph.add_edge(\"travel_search\", END)\n",
    "graph.add_edge(\"hotel_search\", END)\n",
    "graph.add_edge(\"weather_check\", END)\n",
    "\n",
    "app = graph.compile()\n"
   ]
  },
  {
   "cell_type": "code",
   "execution_count": 22,
   "id": "5d7609f8",
   "metadata": {},
   "outputs": [
    {
     "data": {
      "text/plain": [
       "{'user_query': 'Find me a flight from New York to San Francisco on friday',\n",
       " 'messages': [HumanMessage(content='Find me a flight from New York to San Francisco on friday', additional_kwargs={}, response_metadata={}, id='ebd62909-229e-423b-9de7-d882c7c0e56e'),\n",
       "  AIMessage(content='', additional_kwargs={'tool_calls': [{'id': 'call_7Ue5Xtz5RmIS5DLnplicYHvD', 'function': {'arguments': '{\"origin\":\"New York\",\"destination\":\"San Francisco\",\"date\":\"2023-10-27\"}', 'name': 'search_flights'}, 'type': 'function'}], 'refusal': None}, response_metadata={'token_usage': {'completion_tokens': 30, 'prompt_tokens': 103, 'total_tokens': 133, 'completion_tokens_details': {'accepted_prediction_tokens': 0, 'audio_tokens': 0, 'reasoning_tokens': 0, 'rejected_prediction_tokens': 0}, 'prompt_tokens_details': {'audio_tokens': 0, 'cached_tokens': 0}}, 'model_name': 'gpt-4o-mini-2024-07-18', 'system_fingerprint': 'fp_560af6e559', 'id': 'chatcmpl-C6uygHLuCNJMGr471YhWikt4M3rg8', 'finish_reason': 'tool_calls', 'logprobs': None}, id='run--7cc065b8-df66-43ab-b6a4-91f411ba1903-0', tool_calls=[{'name': 'search_flights', 'args': {'origin': 'New York', 'destination': 'San Francisco', 'date': '2023-10-27'}, 'id': 'call_7Ue5Xtz5RmIS5DLnplicYHvD', 'type': 'tool_call'}], usage_metadata={'input_tokens': 103, 'output_tokens': 30, 'total_tokens': 133, 'input_token_details': {'audio': 0, 'cache_read': 0}, 'output_token_details': {'audio': 0, 'reasoning': 0}}),\n",
       "  ToolMessage(content=\"Found [{'airline': 'SkyWays', 'departure_time': '08:00', 'arrival_time': '10:30', 'price': 350.0, 'direct': True}, {'airline': 'OceanAir', 'departure_time': '12:45', 'arrival_time': '15:15', 'price': 275.5, 'direct': True}] direct flights from New York to San Francisco on 2023-10-27.\", name='search_flights', id='e5b6e3c2-ddc2-49c6-8051-847b471de055', tool_call_id='call_7Ue5Xtz5RmIS5DLnplicYHvD'),\n",
       "  AIMessage(content='I found two direct flights from New York to San Francisco on Friday, October 27, 2023:\\n\\n1. **SkyWays**\\n   - Departure Time: 08:00\\n   - Arrival Time: 10:30\\n   - Price: $350.00\\n\\n2. **OceanAir**\\n   - Departure Time: 12:45\\n   - Arrival Time: 15:15\\n   - Price: $275.50\\n\\nLet me know if you would like to book one of these flights or need more information!', additional_kwargs={'refusal': None}, response_metadata={'token_usage': {'completion_tokens': 111, 'prompt_tokens': 238, 'total_tokens': 349, 'completion_tokens_details': {'accepted_prediction_tokens': 0, 'audio_tokens': 0, 'reasoning_tokens': 0, 'rejected_prediction_tokens': 0}, 'prompt_tokens_details': {'audio_tokens': 0, 'cached_tokens': 0}}, 'model_name': 'gpt-4o-mini-2024-07-18', 'system_fingerprint': 'fp_560af6e559', 'id': 'chatcmpl-C6uyiBR6Th3FWCZt7p1CsIkszQvcV', 'finish_reason': 'stop', 'logprobs': None}, id='run--24ed5056-f339-40c2-a652-8c1483be8885-0', usage_metadata={'input_tokens': 238, 'output_tokens': 111, 'total_tokens': 349, 'input_token_details': {'audio': 0, 'cache_read': 0}, 'output_token_details': {'audio': 0, 'reasoning': 0}})],\n",
       " 'agent_redirect': 'travel_search'}"
      ]
     },
     "execution_count": 22,
     "metadata": {},
     "output_type": "execute_result"
    }
   ],
   "source": [
    "result = app.invoke({\n",
    "    \"user_query\": \"Find me a flight from New York to San Francisco on friday\",\n",
    "    \"messages\": []           # <-- needed so .append(...) in main_router works\n",
    "})\n",
    "\n",
    "result"
   ]
  },
  {
   "cell_type": "code",
   "execution_count": 24,
   "id": "9deb98b2",
   "metadata": {},
   "outputs": [
    {
     "data": {
      "text/plain": [
       "{'user_query': 'Find me a hotel in San Francisco. my budget is 200 dollars',\n",
       " 'messages': [HumanMessage(content='Find me a hotel in San Francisco. my budget is 200 dollars', additional_kwargs={}, response_metadata={}, id='92f2370d-a604-409f-9637-1b9cd82ae226'),\n",
       "  AIMessage(content='', additional_kwargs={'tool_calls': [{'id': 'call_8OuVsrHcWfOrhFrTwGQT6N0M', 'function': {'arguments': '{\"city\":\"San Francisco\",\"max_price\":200}', 'name': 'search_hotels'}, 'type': 'function'}], 'refusal': None}, response_metadata={'token_usage': {'completion_tokens': 21, 'prompt_tokens': 115, 'total_tokens': 136, 'completion_tokens_details': {'accepted_prediction_tokens': 0, 'audio_tokens': 0, 'reasoning_tokens': 0, 'rejected_prediction_tokens': 0}, 'prompt_tokens_details': {'audio_tokens': 0, 'cached_tokens': 0}}, 'model_name': 'gpt-4o-mini-2024-07-18', 'system_fingerprint': 'fp_560af6e559', 'id': 'chatcmpl-C6uyt25q0UcXTVdeshB96w8KgvWof', 'finish_reason': 'tool_calls', 'logprobs': None}, id='run--fcc4dcdf-111a-48e7-8202-4d48dcd3b482-0', tool_calls=[{'name': 'search_hotels', 'args': {'city': 'San Francisco', 'max_price': 200}, 'id': 'call_8OuVsrHcWfOrhFrTwGQT6N0M', 'type': 'tool_call'}], usage_metadata={'input_tokens': 115, 'output_tokens': 21, 'total_tokens': 136, 'input_token_details': {'audio': 0, 'cache_read': 0}, 'output_token_details': {'audio': 0, 'reasoning': 0}}),\n",
       "  ToolMessage(content=\"Found [{'name': 'City Center Hotel', 'location': 'Downtown', 'price_per_night': 199.99, 'amenities': ['WiFi', 'Pool', 'Gym', 'Restaurant']}, {'name': 'Riverside Inn', 'location': 'Riverside District', 'price_per_night': 149.5, 'amenities': ['WiFi', 'Free Breakfast', 'Parking']}] hotels in San Francisco\", name='search_hotels', id='6a71c7d8-4b98-4895-890b-b79d2f4b63ca', tool_call_id='call_8OuVsrHcWfOrhFrTwGQT6N0M'),\n",
       "  AIMessage(content='Here are some hotel options in San Francisco within your budget of $200:\\n\\n1. **City Center Hotel**\\n   - **Location:** Downtown\\n   - **Price per Night:** $199.99\\n   - **Amenities:** WiFi, Pool, Gym, Restaurant\\n\\n2. **Riverside Inn**\\n   - **Location:** Riverside District\\n   - **Price per Night:** $149.50\\n   - **Amenities:** WiFi, Free Breakfast, Parking\\n\\nLet me know if you would like more information or assistance with booking!', additional_kwargs={'refusal': None}, response_metadata={'token_usage': {'completion_tokens': 111, 'prompt_tokens': 239, 'total_tokens': 350, 'completion_tokens_details': {'accepted_prediction_tokens': 0, 'audio_tokens': 0, 'reasoning_tokens': 0, 'rejected_prediction_tokens': 0}, 'prompt_tokens_details': {'audio_tokens': 0, 'cached_tokens': 0}}, 'model_name': 'gpt-4o-mini-2024-07-18', 'system_fingerprint': 'fp_560af6e559', 'id': 'chatcmpl-C6uyuscQvhMRmjYo634UVblWrSLdw', 'finish_reason': 'stop', 'logprobs': None}, id='run--ac031fba-7fcd-452c-80ac-1c92892b0328-0', usage_metadata={'input_tokens': 239, 'output_tokens': 111, 'total_tokens': 350, 'input_token_details': {'audio': 0, 'cache_read': 0}, 'output_token_details': {'audio': 0, 'reasoning': 0}})],\n",
       " 'agent_redirect': 'hotel_search'}"
      ]
     },
     "execution_count": 24,
     "metadata": {},
     "output_type": "execute_result"
    }
   ],
   "source": [
    "result2 = app.invoke({\n",
    "    \"user_query\": \"Find me a hotel in San Francisco. my budget is 200 dollars\"\n",
    "})\n",
    "\n",
    "result2"
   ]
  },
  {
   "cell_type": "code",
   "execution_count": null,
   "id": "70fb0ef7",
   "metadata": {},
   "outputs": [
    {
     "data": {
      "text/plain": [
       "{'user_query': 'Find me a flight from New York to San Francisco on friday',\n",
       " 'messages': [HumanMessage(content='Find me a flight from New York to San Francisco on friday', additional_kwargs={}, response_metadata={}, id='cf068b2b-619c-4ef2-b100-a2bce82f992a'),\n",
       "  AIMessage(content='', additional_kwargs={'tool_calls': [{'id': 'call_VaX5sULGERSCUfX9KVsDZzJA', 'function': {'arguments': '{\"origin\":\"New York\",\"destination\":\"San Francisco\",\"date\":\"2023-10-27\"}', 'name': 'search_flights'}, 'type': 'function'}], 'refusal': None}, response_metadata={'token_usage': {'completion_tokens': 30, 'prompt_tokens': 103, 'total_tokens': 133, 'completion_tokens_details': {'accepted_prediction_tokens': 0, 'audio_tokens': 0, 'reasoning_tokens': 0, 'rejected_prediction_tokens': 0}, 'prompt_tokens_details': {'audio_tokens': 0, 'cached_tokens': 0}}, 'model_name': 'gpt-4o-mini-2024-07-18', 'system_fingerprint': 'fp_560af6e559', 'id': 'chatcmpl-C6uUJbuRWVo3I5jgLkw34NJkKRQcY', 'finish_reason': 'tool_calls', 'logprobs': None}, id='run--743ae846-283a-4e0d-a4c2-48376a34da49-0', tool_calls=[{'name': 'search_flights', 'args': {'origin': 'New York', 'destination': 'San Francisco', 'date': '2023-10-27'}, 'id': 'call_VaX5sULGERSCUfX9KVsDZzJA', 'type': 'tool_call'}], usage_metadata={'input_tokens': 103, 'output_tokens': 30, 'total_tokens': 133, 'input_token_details': {'audio': 0, 'cache_read': 0}, 'output_token_details': {'audio': 0, 'reasoning': 0}}),\n",
       "  ToolMessage(content=\"Found [{'airline': 'SkyWays', 'departure_time': '08:00', 'arrival_time': '10:30', 'price': 350.0, 'direct': True}, {'airline': 'OceanAir', 'departure_time': '12:45', 'arrival_time': '15:15', 'price': 275.5, 'direct': True}] direct flights from New York to San Francisco on 2023-10-27.\", name='search_flights', id='0a7d4102-686a-4c44-97ea-13c5a0deb3ab', tool_call_id='call_VaX5sULGERSCUfX9KVsDZzJA'),\n",
       "  AIMessage(content='I found some direct flights from New York to San Francisco on Friday, October 27, 2023:\\n\\n1. **SkyWays**\\n   - Departure Time: 08:00\\n   - Arrival Time: 10:30\\n   - Price: $350.00\\n\\n2. **OceanAir**\\n   - Departure Time: 12:45\\n   - Arrival Time: 15:15\\n   - Price: $275.50\\n\\nLet me know if you would like to book one of these flights or need more information!', additional_kwargs={'refusal': None}, response_metadata={'token_usage': {'completion_tokens': 111, 'prompt_tokens': 238, 'total_tokens': 349, 'completion_tokens_details': {'accepted_prediction_tokens': 0, 'audio_tokens': 0, 'reasoning_tokens': 0, 'rejected_prediction_tokens': 0}, 'prompt_tokens_details': {'audio_tokens': 0, 'cached_tokens': 0}}, 'model_name': 'gpt-4o-mini-2024-07-18', 'system_fingerprint': 'fp_560af6e559', 'id': 'chatcmpl-C6uUK4mgnp9rTOkJ9Z0dx2LtZuwOu', 'finish_reason': 'stop', 'logprobs': None}, id='run--64ca58d3-4577-4bed-b87b-c61a8446ff73-0', usage_metadata={'input_tokens': 238, 'output_tokens': 111, 'total_tokens': 349, 'input_token_details': {'audio': 0, 'cache_read': 0}, 'output_token_details': {'audio': 0, 'reasoning': 0}})],\n",
       " 'agent_redirect': 'travel_search'}"
      ]
     },
     "execution_count": 9,
     "metadata": {},
     "output_type": "execute_result"
    }
   ],
   "source": [
    "result"
   ]
  },
  {
   "cell_type": "code",
   "execution_count": null,
   "id": "5ff484f7",
   "metadata": {},
   "outputs": [
    {
     "data": {
      "image/png": "[encoded data removed]",
      "text/plain": [
       "<IPython.core.display.Image object>"
      ]
     },
     "metadata": {},
     "output_type": "display_data"
    }
   ],
   "source": [
    "from IPython.display import display, Image\n",
    "display(Image(app.get_graph(xray=True).draw_mermaid_png()))"
   ]
  },
  {
   "cell_type": "code",
   "execution_count": 26,
   "id": "d8b50af6",
   "metadata": {},
   "outputs": [
    {
     "name": "stdout",
     "output_type": "stream",
     "text": [
      "hi\n"
     ]
    }
   ],
   "source": [
    "print('hi')"
   ]
  }
 ],
 "metadata": {
  "kernelspec": {
   "display_name": "venv",
   "language": "python",
   "name": "python3"
  },
  "language_info": {
   "codemirror_mode": {
    "name": "ipython",
    "version": 3
   },
   "file_extension": ".py",
   "mimetype": "text/x-python",
   "name": "python",
   "nbconvert_exporter": "python",
   "pygments_lexer": "ipython3",
   "version": "3.12.10"
  }
 },
 "nbformat": 4,
 "nbformat_minor": 5
}
